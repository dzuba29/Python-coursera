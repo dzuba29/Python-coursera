{
 "cells": [
  {
   "cell_type": "markdown",
   "metadata": {},
   "source": [
    "# Задача 1\n",
    "## Минимизация гладкой функции"
   ]
  },
  {
   "cell_type": "code",
   "execution_count": 37,
   "metadata": {},
   "outputs": [
    {
     "name": "stdout",
     "output_type": "stream",
     "text": [
      "1.75\n",
      "-11.9\n"
     ]
    }
   ],
   "source": [
    "import numpy\n",
    "from scipy.optimize import *\n",
    "import math\n",
    "\n",
    "def f(x):\n",
    "    return math.sin(x/5)* math.exp(x/10)+5 * math.exp(-x/2)\n",
    "\n",
    "result0 = minimize(f, 2, method='BFGS')\n",
    "result1 = minimize(f, 30, method='BFGS')\n",
    "\n",
    "print(round(result0.fun,2));print(round(result1.fun,2))"
   ]
  },
  {
   "cell_type": "markdown",
   "metadata": {},
   "source": [
    "# Задача 2\n",
    "## Глобальная оптимизация"
   ]
  },
  {
   "cell_type": "code",
   "execution_count": 38,
   "metadata": {},
   "outputs": [
    {
     "name": "stdout",
     "output_type": "stream",
     "text": [
      "-11.9\n"
     ]
    }
   ],
   "source": [
    "import numpy\n",
    "from scipy.optimize import *\n",
    "import math\n",
    "\n",
    "def f(x):\n",
    "    return math.sin(x/5)* math.exp(x/10)+5 * math.exp(-x/2)\n",
    "\n",
    "result = differential_evolution(f,[(1,30)])\n",
    "print(round(result.fun,2))"
   ]
  },
  {
   "cell_type": "markdown",
   "metadata": {},
   "source": [
    "# Задача 3\n",
    "## Минимизация негладкой функции"
   ]
  },
  {
   "cell_type": "code",
   "execution_count": 40,
   "metadata": {},
   "outputs": [
    {
     "name": "stdout",
     "output_type": "stream",
     "text": [
      "-5\n",
      "-11.0\n"
     ]
    }
   ],
   "source": [
    "import numpy\n",
    "from scipy.optimize import *\n",
    "import math\n",
    "\n",
    "def f(x):\n",
    "    return int(math.sin(x/5)* math.exp(x/10)+5 * math.exp(-x/2))\n",
    "\n",
    "result0 = minimize(f, 30, method='BFGS')\n",
    "result1 = differential_evolution(f,[(1,30)]) \n",
    "\n",
    "print(result0.fun);print(result1.fun)"
   ]
  },
  {
   "cell_type": "code",
   "execution_count": null,
   "metadata": {},
   "outputs": [],
   "source": []
  },
  {
   "cell_type": "code",
   "execution_count": null,
   "metadata": {},
   "outputs": [],
   "source": []
  }
 ],
 "metadata": {
  "kernelspec": {
   "display_name": "Python 3",
   "language": "python",
   "name": "python3"
  },
  "language_info": {
   "codemirror_mode": {
    "name": "ipython",
    "version": 3
   },
   "file_extension": ".py",
   "mimetype": "text/x-python",
   "name": "python",
   "nbconvert_exporter": "python",
   "pygments_lexer": "ipython3",
   "version": "3.5.2"
  }
 },
 "nbformat": 4,
 "nbformat_minor": 2
}
