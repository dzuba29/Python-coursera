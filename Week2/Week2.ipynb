{
 "cells": [
  {
   "cell_type": "markdown",
   "metadata": {},
   "source": [
    "# Задача № 1\n",
    "## Сравнение предложений"
   ]
  },
  {
   "cell_type": "code",
   "execution_count": 70,
   "metadata": {
    "scrolled": true
   },
   "outputs": [
    {
     "name": "stdout",
     "output_type": "stream",
     "text": [
      "6\n",
      "4\n"
     ]
    }
   ],
   "source": [
    "import re\n",
    "import numpy \n",
    "import scipy\n",
    "\n",
    "def ReadFromFile(txt): #read to list, every item is sentence\n",
    "    with open(txt, \"r\") as file:\n",
    "        arraySentences= file.read().splitlines()    \n",
    "    return arraySentences\n",
    "\n",
    "def divideByWord(arrayOfSent): #split text by words and filter \n",
    "    SentArray=[];WordArray=[]\n",
    "    for item in arrayOfSent:\n",
    "            temp = re.split('[^a-z]', item.lower())\n",
    "            temp= [x.replace(' ', '') for x in temp]\n",
    "            temp=filter(None, temp)\n",
    "            SentArray.append(temp); WordArray.extend(temp)\n",
    "    return SentArray,WordArray\n",
    "\n",
    "def Counter(arrayOfSent): #count all words,make it as dict\n",
    "    dictionary={}\n",
    "    for item in arrayOfSent:\n",
    "        for word in item:\n",
    "            if word in dictionary:\n",
    "                value = dictionary[word]\n",
    "                dictionary[word]=value+1\n",
    "            else:\n",
    "                dictionary[word]=1\n",
    "    return dictionary\n",
    "\n",
    "def CreateMatrix(arrayOfSent,dicti,find): # create our matirx 22x254, if u will get len of array and dict u will see 22x254\n",
    "    rows=len(arrayOfSent);cols=len(dicti);matrix = numpy.zeros((rows,cols));\n",
    "    temp=[]\n",
    "    for i in find:    \n",
    "        if not i in temp:  \n",
    "            temp.append(i)\n",
    "    for i in range(rows):\n",
    "        for j in range(cols):\n",
    "            matrix[i][j]=arrayOfSent[i].count(temp[j])\n",
    "    return matrix\n",
    "\n",
    "def distance(matrix):\n",
    "    distances=[]\n",
    "    for i in range(matrix.shape[0]):\n",
    "        distances.append((i,scipy.spatial.distance.cosine(matrix[0],matrix[i])))\n",
    "    distances=sorted(distances, key=lambda number: number[1])\n",
    "    return distances\n",
    "    \n",
    "sentences=ReadFromFile('sentences.txt')\n",
    "words,find=divideByWord(sentences)           \n",
    "dicti=Counter(words)\n",
    "m=CreateMatrix(words,dicti,find)\n",
    "dist=distance(m)#;print(dist[1][0]);print(dist[1][0])\n",
    "\n",
    "\n",
    "\n",
    "\n"
   ]
  },
  {
   "cell_type": "markdown",
   "metadata": {},
   "source": [
    "# Задание 2\n",
    "## Аппроксимация функции"
   ]
  },
  {
   "cell_type": "code",
   "execution_count": 1,
   "metadata": {},
   "outputs": [
    {
     "name": "stdout",
     "output_type": "stream",
     "text": [
      "[ 4.36264154 -1.29552587  0.19333685 -0.00823565]\n"
     ]
    }
   ],
   "source": [
    "import numpy\n",
    "import matplotlib.pyplot as plt\n",
    "import math\n",
    "from scipy import linalg\n",
    "\n",
    "def function(x):\n",
    "    return math.sin(x/5)* math.exp(x/10)+5 * math.exp(-x/2)\n",
    "\n",
    "def solveFirstPow(x1,x2):\n",
    "    A=numpy.matrix([[1,x1],[1,x2]])\n",
    "    B=numpy.array([function(x1),function(x2)])\n",
    "    return linalg.solve(A,B)\n",
    "\n",
    "def solveSecondPow(x1,x2,x3):\n",
    "    A=numpy.matrix([[1,x1,x1**2],[1,x2,x2**2],[1,x3,x3**2]])\n",
    "    B=numpy.array([function(x1),function(x2),function(x3)])\n",
    "    return linalg.solve(A,B)\n",
    "\n",
    "def solveThirdPow(x1,x2,x3,x4):\n",
    "    A=numpy.matrix([[1,x1,x1**2,x1**3],[1,x2,x2**2,x2**3],[1,x3,x3**2,x3**3],[1,x4,x4**2,x4**3]])\n",
    "    B=numpy.array([function(x1),function(x2),function(x3),function(x4)])\n",
    "    return linalg.solve(A,B)\n",
    "print(solveThirdPow(1.,4.,10.,15.))\n",
    "\n"
   ]
  },
  {
   "cell_type": "code",
   "execution_count": null,
   "metadata": {},
   "outputs": [],
   "source": []
  },
  {
   "cell_type": "code",
   "execution_count": null,
   "metadata": {},
   "outputs": [],
   "source": []
  }
 ],
 "metadata": {
  "kernelspec": {
   "display_name": "Python 3",
   "language": "python",
   "name": "python3"
  },
  "language_info": {
   "codemirror_mode": {
    "name": "ipython",
    "version": 3
   },
   "file_extension": ".py",
   "mimetype": "text/x-python",
   "name": "python",
   "nbconvert_exporter": "python",
   "pygments_lexer": "ipython3",
   "version": "3.5.2"
  }
 },
 "nbformat": 4,
 "nbformat_minor": 2
}
